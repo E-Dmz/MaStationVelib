{
 "cells": [
  {
   "cell_type": "code",
   "execution_count": 1,
   "id": "0598244b",
   "metadata": {
    "ExecuteTime": {
     "end_time": "2022-01-01T11:13:24.978799Z",
     "start_time": "2022-01-01T11:13:24.976606Z"
    }
   },
   "outputs": [],
   "source": [
    "import sqlite3\n",
    "import pandas as pd"
   ]
  },
  {
   "cell_type": "markdown",
   "id": "10a0856b",
   "metadata": {},
   "source": [
    "### Create empty database file and empty table"
   ]
  },
  {
   "cell_type": "code",
   "execution_count": 17,
   "id": "8c530e0c",
   "metadata": {
    "ExecuteTime": {
     "end_time": "2022-01-01T11:34:43.735658Z",
     "start_time": "2022-01-01T11:34:43.593891Z"
    }
   },
   "outputs": [
    {
     "name": "stdout",
     "output_type": "stream",
     "text": [
      "rm: cannot remove '../data/velib.sqlite': No such file or directory\r\n"
     ]
    }
   ],
   "source": [
    "!rm ../data/velib.sqlite"
   ]
  },
  {
   "cell_type": "code",
   "execution_count": 18,
   "id": "96bd4c09",
   "metadata": {
    "ExecuteTime": {
     "end_time": "2022-01-01T11:34:46.107210Z",
     "start_time": "2022-01-01T11:34:45.970570Z"
    }
   },
   "outputs": [],
   "source": [
    "!touch ../data/velib.sqlite"
   ]
  },
  {
   "cell_type": "code",
   "execution_count": 19,
   "id": "1cc300f2",
   "metadata": {
    "ExecuteTime": {
     "end_time": "2022-01-01T11:34:48.756367Z",
     "start_time": "2022-01-01T11:34:48.754003Z"
    }
   },
   "outputs": [],
   "source": [
    "conn = sqlite3.connect('../data/velib.sqlite')\n",
    "c = conn.cursor()"
   ]
  },
  {
   "cell_type": "code",
   "execution_count": 20,
   "id": "ad972aab",
   "metadata": {
    "ExecuteTime": {
     "end_time": "2022-01-01T11:34:50.598133Z",
     "start_time": "2022-01-01T11:34:50.578805Z"
    }
   },
   "outputs": [
    {
     "data": {
      "text/plain": [
       "<sqlite3.Cursor at 0x7f191fd57880>"
      ]
     },
     "execution_count": 20,
     "metadata": {},
     "output_type": "execute_result"
    }
   ],
   "source": [
    "c.execute(\"\"\"\n",
    "CREATE TABLE stations (datetime text, stationCode int, meca int, elec int, park int)\n",
    "\"\"\")"
   ]
  },
  {
   "cell_type": "markdown",
   "id": "e55306fa",
   "metadata": {},
   "source": [
    "### Fetch CSV file and clean it"
   ]
  },
  {
   "cell_type": "code",
   "execution_count": 10,
   "id": "266aeea1",
   "metadata": {
    "ExecuteTime": {
     "end_time": "2022-01-01T11:22:55.828433Z",
     "start_time": "2022-01-01T11:22:45.448149Z"
    }
   },
   "outputs": [],
   "source": [
    "stations = pd.read_csv('../data/data-5m.csv', low_memory=False)"
   ]
  },
  {
   "cell_type": "code",
   "execution_count": 12,
   "id": "0d26784a",
   "metadata": {
    "ExecuteTime": {
     "end_time": "2022-01-01T11:25:04.852497Z",
     "start_time": "2022-01-01T11:24:49.776713Z"
    }
   },
   "outputs": [],
   "source": [
    "stations['datetime'] = pd.to_datetime(stations.datetime, format='%Y-%m-%d %H-%M')\n",
    "for col in ['stationCode', 'meca', 'elec', 'park']:\n",
    "    stations[col] = pd.to_numeric(stations[col], errors='coerce')\n",
    "stations = stations.dropna()\n",
    "for col in ['stationCode', 'meca', 'elec', 'park']:\n",
    "    stations[col] = stations[col].astype(int)"
   ]
  },
  {
   "cell_type": "code",
   "execution_count": 13,
   "id": "b51e9413",
   "metadata": {
    "ExecuteTime": {
     "end_time": "2022-01-01T11:26:51.756480Z",
     "start_time": "2022-01-01T11:26:51.752332Z"
    }
   },
   "outputs": [
    {
     "data": {
      "text/plain": [
       "datetime       datetime64[ns]\n",
       "stationCode             int64\n",
       "meca                    int64\n",
       "elec                    int64\n",
       "park                    int64\n",
       "dtype: object"
      ]
     },
     "execution_count": 13,
     "metadata": {},
     "output_type": "execute_result"
    }
   ],
   "source": [
    "stations.dtypes"
   ]
  },
  {
   "cell_type": "code",
   "execution_count": 14,
   "id": "8a9dd277",
   "metadata": {
    "ExecuteTime": {
     "end_time": "2022-01-01T11:27:22.413486Z",
     "start_time": "2022-01-01T11:27:19.384506Z"
    },
    "scrolled": true
   },
   "outputs": [
    {
     "data": {
      "text/html": [
       "<div>\n",
       "<style scoped>\n",
       "    .dataframe tbody tr th:only-of-type {\n",
       "        vertical-align: middle;\n",
       "    }\n",
       "\n",
       "    .dataframe tbody tr th {\n",
       "        vertical-align: top;\n",
       "    }\n",
       "\n",
       "    .dataframe thead th {\n",
       "        text-align: right;\n",
       "    }\n",
       "</style>\n",
       "<table border=\"1\" class=\"dataframe\">\n",
       "  <thead>\n",
       "    <tr style=\"text-align: right;\">\n",
       "      <th></th>\n",
       "      <th>stationCode</th>\n",
       "      <th>meca</th>\n",
       "      <th>elec</th>\n",
       "      <th>park</th>\n",
       "    </tr>\n",
       "  </thead>\n",
       "  <tbody>\n",
       "    <tr>\n",
       "      <th>count</th>\n",
       "      <td>3.130036e+07</td>\n",
       "      <td>3.130036e+07</td>\n",
       "      <td>3.130036e+07</td>\n",
       "      <td>3.130036e+07</td>\n",
       "    </tr>\n",
       "    <tr>\n",
       "      <th>mean</th>\n",
       "      <td>1.831298e+04</td>\n",
       "      <td>7.507661e+00</td>\n",
       "      <td>3.584884e+00</td>\n",
       "      <td>1.840734e+01</td>\n",
       "    </tr>\n",
       "    <tr>\n",
       "      <th>std</th>\n",
       "      <td>1.205379e+04</td>\n",
       "      <td>9.378114e+00</td>\n",
       "      <td>3.654926e+00</td>\n",
       "      <td>1.230630e+01</td>\n",
       "    </tr>\n",
       "    <tr>\n",
       "      <th>min</th>\n",
       "      <td>1.000000e+00</td>\n",
       "      <td>0.000000e+00</td>\n",
       "      <td>0.000000e+00</td>\n",
       "      <td>0.000000e+00</td>\n",
       "    </tr>\n",
       "    <tr>\n",
       "      <th>25%</th>\n",
       "      <td>1.101700e+04</td>\n",
       "      <td>1.000000e+00</td>\n",
       "      <td>1.000000e+00</td>\n",
       "      <td>9.000000e+00</td>\n",
       "    </tr>\n",
       "    <tr>\n",
       "      <th>50%</th>\n",
       "      <td>1.603200e+04</td>\n",
       "      <td>4.000000e+00</td>\n",
       "      <td>3.000000e+00</td>\n",
       "      <td>1.700000e+01</td>\n",
       "    </tr>\n",
       "    <tr>\n",
       "      <th>75%</th>\n",
       "      <td>2.131900e+04</td>\n",
       "      <td>1.100000e+01</td>\n",
       "      <td>5.000000e+00</td>\n",
       "      <td>2.600000e+01</td>\n",
       "    </tr>\n",
       "    <tr>\n",
       "      <th>max</th>\n",
       "      <td>9.200800e+04</td>\n",
       "      <td>7.400000e+01</td>\n",
       "      <td>5.900000e+01</td>\n",
       "      <td>7.100000e+01</td>\n",
       "    </tr>\n",
       "  </tbody>\n",
       "</table>\n",
       "</div>"
      ],
      "text/plain": [
       "        stationCode          meca          elec          park\n",
       "count  3.130036e+07  3.130036e+07  3.130036e+07  3.130036e+07\n",
       "mean   1.831298e+04  7.507661e+00  3.584884e+00  1.840734e+01\n",
       "std    1.205379e+04  9.378114e+00  3.654926e+00  1.230630e+01\n",
       "min    1.000000e+00  0.000000e+00  0.000000e+00  0.000000e+00\n",
       "25%    1.101700e+04  1.000000e+00  1.000000e+00  9.000000e+00\n",
       "50%    1.603200e+04  4.000000e+00  3.000000e+00  1.700000e+01\n",
       "75%    2.131900e+04  1.100000e+01  5.000000e+00  2.600000e+01\n",
       "max    9.200800e+04  7.400000e+01  5.900000e+01  7.100000e+01"
      ]
     },
     "execution_count": 14,
     "metadata": {},
     "output_type": "execute_result"
    }
   ],
   "source": [
    "stations.describe()"
   ]
  },
  {
   "cell_type": "markdown",
   "id": "777b82bb",
   "metadata": {},
   "source": [
    "### Convert pandas table to sqlite table and test it"
   ]
  },
  {
   "cell_type": "code",
   "execution_count": 21,
   "id": "9c6f8ac7",
   "metadata": {
    "ExecuteTime": {
     "end_time": "2022-01-01T11:37:17.569737Z",
     "start_time": "2022-01-01T11:35:47.898082Z"
    }
   },
   "outputs": [],
   "source": [
    "stations.to_sql('stations', conn, if_exists='append', index=False)"
   ]
  },
  {
   "cell_type": "code",
   "execution_count": 45,
   "id": "c216c807",
   "metadata": {
    "ExecuteTime": {
     "end_time": "2022-01-01T12:46:29.700757Z",
     "start_time": "2022-01-01T12:46:29.697607Z"
    }
   },
   "outputs": [
    {
     "data": {
      "text/plain": [
       "<sqlite3.Cursor at 0x7f191fd57880>"
      ]
     },
     "execution_count": 45,
     "metadata": {},
     "output_type": "execute_result"
    }
   ],
   "source": [
    "c.execute(\"\"\"\n",
    "SELECT * FROM stations\n",
    "\"\"\")"
   ]
  },
  {
   "cell_type": "code",
   "execution_count": 46,
   "id": "272ec3d6",
   "metadata": {
    "ExecuteTime": {
     "end_time": "2022-01-01T12:46:29.852140Z",
     "start_time": "2022-01-01T12:46:29.848565Z"
    }
   },
   "outputs": [
    {
     "data": {
      "text/plain": [
       "('2021-10-15 06:11:00', 16107, 2, 4, 28)"
      ]
     },
     "execution_count": 46,
     "metadata": {},
     "output_type": "execute_result"
    }
   ],
   "source": [
    "c.fetchone()"
   ]
  },
  {
   "cell_type": "markdown",
   "id": "357e49fa",
   "metadata": {},
   "source": [
    "### Queries"
   ]
  },
  {
   "cell_type": "code",
   "execution_count": 47,
   "id": "e541fd26",
   "metadata": {
    "ExecuteTime": {
     "end_time": "2022-01-01T12:46:48.579547Z",
     "start_time": "2022-01-01T12:46:48.577462Z"
    }
   },
   "outputs": [],
   "source": [
    "query = \"\"\"\n",
    "SELECT s.datetime, s.meca + s.elec AS bikes, s.park\n",
    "FROM stations s\n",
    "WHERE s.stationCode = 12001\n",
    "\"\"\""
   ]
  },
  {
   "cell_type": "code",
   "execution_count": 48,
   "id": "438bd44a",
   "metadata": {
    "ExecuteTime": {
     "end_time": "2022-01-01T12:46:50.008040Z",
     "start_time": "2022-01-01T12:46:48.688772Z"
    }
   },
   "outputs": [
    {
     "data": {
      "text/html": [
       "<div>\n",
       "<style scoped>\n",
       "    .dataframe tbody tr th:only-of-type {\n",
       "        vertical-align: middle;\n",
       "    }\n",
       "\n",
       "    .dataframe tbody tr th {\n",
       "        vertical-align: top;\n",
       "    }\n",
       "\n",
       "    .dataframe thead th {\n",
       "        text-align: right;\n",
       "    }\n",
       "</style>\n",
       "<table border=\"1\" class=\"dataframe\">\n",
       "  <thead>\n",
       "    <tr style=\"text-align: right;\">\n",
       "      <th></th>\n",
       "      <th>datetime</th>\n",
       "      <th>bikes</th>\n",
       "      <th>park</th>\n",
       "    </tr>\n",
       "  </thead>\n",
       "  <tbody>\n",
       "    <tr>\n",
       "      <th>0</th>\n",
       "      <td>2021-10-15 06:11:00</td>\n",
       "      <td>16</td>\n",
       "      <td>44</td>\n",
       "    </tr>\n",
       "    <tr>\n",
       "      <th>1</th>\n",
       "      <td>2021-10-15 06:15:00</td>\n",
       "      <td>16</td>\n",
       "      <td>44</td>\n",
       "    </tr>\n",
       "    <tr>\n",
       "      <th>2</th>\n",
       "      <td>2021-10-15 06:20:00</td>\n",
       "      <td>16</td>\n",
       "      <td>44</td>\n",
       "    </tr>\n",
       "    <tr>\n",
       "      <th>3</th>\n",
       "      <td>2021-10-15 06:25:00</td>\n",
       "      <td>16</td>\n",
       "      <td>44</td>\n",
       "    </tr>\n",
       "    <tr>\n",
       "      <th>4</th>\n",
       "      <td>2021-10-15 06:30:00</td>\n",
       "      <td>16</td>\n",
       "      <td>44</td>\n",
       "    </tr>\n",
       "  </tbody>\n",
       "</table>\n",
       "</div>"
      ],
      "text/plain": [
       "              datetime  bikes  park\n",
       "0  2021-10-15 06:11:00     16    44\n",
       "1  2021-10-15 06:15:00     16    44\n",
       "2  2021-10-15 06:20:00     16    44\n",
       "3  2021-10-15 06:25:00     16    44\n",
       "4  2021-10-15 06:30:00     16    44"
      ]
     },
     "execution_count": 48,
     "metadata": {},
     "output_type": "execute_result"
    }
   ],
   "source": [
    "pd.read_sql_query(query, conn).head()"
   ]
  },
  {
   "cell_type": "code",
   "execution_count": null,
   "id": "851256e3",
   "metadata": {},
   "outputs": [],
   "source": []
  }
 ],
 "metadata": {
  "kernelspec": {
   "display_name": "Python 3",
   "language": "python",
   "name": "python3"
  },
  "language_info": {
   "codemirror_mode": {
    "name": "ipython",
    "version": 3
   },
   "file_extension": ".py",
   "mimetype": "text/x-python",
   "name": "python",
   "nbconvert_exporter": "python",
   "pygments_lexer": "ipython3",
   "version": "3.8.10"
  },
  "toc": {
   "base_numbering": 1,
   "nav_menu": {},
   "number_sections": true,
   "sideBar": true,
   "skip_h1_title": false,
   "title_cell": "Table of Contents",
   "title_sidebar": "Contents",
   "toc_cell": false,
   "toc_position": {},
   "toc_section_display": true,
   "toc_window_display": false
  },
  "varInspector": {
   "cols": {
    "lenName": 16,
    "lenType": 16,
    "lenVar": 40
   },
   "kernels_config": {
    "python": {
     "delete_cmd_postfix": "",
     "delete_cmd_prefix": "del ",
     "library": "var_list.py",
     "varRefreshCmd": "print(var_dic_list())"
    },
    "r": {
     "delete_cmd_postfix": ") ",
     "delete_cmd_prefix": "rm(",
     "library": "var_list.r",
     "varRefreshCmd": "cat(var_dic_list()) "
    }
   },
   "types_to_exclude": [
    "module",
    "function",
    "builtin_function_or_method",
    "instance",
    "_Feature"
   ],
   "window_display": false
  }
 },
 "nbformat": 4,
 "nbformat_minor": 5
}
